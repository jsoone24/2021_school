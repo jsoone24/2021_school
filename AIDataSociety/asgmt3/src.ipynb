{
 "cells": [
  {
   "cell_type": "code",
   "execution_count": 1,
   "id": "07754e94-daa7-4936-bf22-a9c0fad788e6",
   "metadata": {},
   "outputs": [
    {
     "data": {
      "text/plain": [
       "'<4주차 워크시트> \\n구글 Colab 또는 Jupyter Notebook 환경에서 새 노트를 만들어 아래의 문제들을 해결해봅시다.'"
      ]
     },
     "execution_count": 1,
     "metadata": {},
     "output_type": "execute_result"
    }
   ],
   "source": [
    "'''<4주차 워크시트> \n",
    "구글 Colab 또는 Jupyter Notebook 환경에서 새 노트를 만들어 아래의 문제들을 해결해봅시다.'''"
   ]
  },
  {
   "cell_type": "code",
   "execution_count": 2,
   "id": "ef2e5ca7-74fd-4950-8727-1b63af5fa85f",
   "metadata": {},
   "outputs": [
    {
     "name": "stdout",
     "output_type": "stream",
     "text": [
      "[10, 13, 16, 19, 22, 25, 28, 31, 34, 37, 40, 43, 46, 49]\n",
      "14\n"
     ]
    }
   ],
   "source": [
    "'''1) range 함수를 사용하여 10에서 시작하여 3씩 증가하여 50 전까지 \n",
    "   포함되는 수열을 만든 후 화면에 출력하시오. \n",
    "   len 함수를 사용하여 수열에 포함된 수의 개수를 확인하시오. '''\n",
    "l = [x for x in range(10, 50, 3)]\n",
    "print(l)\n",
    "print(len(l))"
   ]
  },
  {
   "cell_type": "code",
   "execution_count": 3,
   "id": "e78c4ffc-5653-4eea-b8af-36f64259c6ad",
   "metadata": {},
   "outputs": [
    {
     "name": "stdout",
     "output_type": "stream",
     "text": [
      "[1.5 1.8 2.1 2.4 2.7 3.  3.3 3.6 3.9 4.2 4.5 4.8 5.1 5.4]\n",
      "<class 'numpy.ndarray'>\n"
     ]
    }
   ],
   "source": [
    "'''2) 넘파이의 arange 함수를 사용하여 1.5에서 시작하여 0.3씩 증가하여 5.5 전까지 \n",
    "   포함되는 수열의 변수를 만든 후 화면에 출력하시오.  \n",
    "   type 함수를 생성된 변수의 타입을 확인하시오.'''\n",
    "\n",
    "import numpy as np\n",
    "l = np.arange(1.5,5.5,0.3)\n",
    "print(l)\n",
    "print(type(l))"
   ]
  },
  {
   "cell_type": "code",
   "execution_count": 4,
   "id": "52d7561c-bf34-47a2-9ee2-3783ba082f84",
   "metadata": {},
   "outputs": [
    {
     "name": "stdout",
     "output_type": "stream",
     "text": [
      "[10. 30. 50. 70.]\n",
      "<class 'numpy.ndarray'>\n"
     ]
    }
   ],
   "source": [
    "'''3) linspace 함수를 사용하여 시작이 10이고, 끝이 70인 구간을 4등분하는 \n",
    "   즉, 4개의 값으로 구성되는 수열을 만들어 화면에 출력하시오. \n",
    "   type 함수를 생성된 변수의 타입을 확인하시오. '''\n",
    "\n",
    "l = np.linspace(10,70,4)\n",
    "print(l)\n",
    "print(type(l))"
   ]
  },
  {
   "cell_type": "code",
   "execution_count": 5,
   "id": "c3953caf-bedd-4971-89a1-c773496832fb",
   "metadata": {},
   "outputs": [
    {
     "name": "stdout",
     "output_type": "stream",
     "text": [
      "[93.  85.5 98.  71.5 87.5]\n"
     ]
    }
   ],
   "source": [
    "'''4) 5명의 학생의 1차 시험과 2차 시험을 치뤘다. \n",
    "   1차 시험점수는 번호 순서대로 85, 95, 100, 77, 92 이고, \n",
    "   2차 시험점수는 번호 순서대로 95, 70, 90, 60, 77 이다. \n",
    "   1차시험과 2차 시험의 평균을 계산한 후 3점의 가산점을 적용하여 출력하시오. '''\n",
    "t1 = [85, 95, 100, 77, 92]\n",
    "t2 = [95, 70, 90, 60, 77]\n",
    "\n",
    "t1 = np.array(t1)\n",
    "t2 = np.array(t2)\n",
    "\n",
    "print((t1 + t2)/2 +3)"
   ]
  },
  {
   "cell_type": "code",
   "execution_count": 6,
   "id": "3bde4ca8-8c4d-451a-b89e-4dc83debd1a9",
   "metadata": {},
   "outputs": [
    {
     "data": {
      "image/png": "[encoded data removed]",
      "text/plain": [
       "<Figure size 432x288 with 1 Axes>"
      ]
     },
     "metadata": {
      "needs_background": "light"
     },
     "output_type": "display_data"
    }
   ],
   "source": [
    "'''5) x축의 범위를 -pi 부터 +2pi 로 한정하여 \n",
    "   sine 그래프와 cosine 그래프를 그리시오.  '''\n",
    "import matplotlib.pyplot as plt\n",
    "\n",
    "x = np.arange(-np.pi,2*np.pi,0.1)\n",
    "sin = np.sin(x)\n",
    "cos = np.cos(x)\n",
    "plt.plot(x, sin, label = 'sin')\n",
    "plt.plot(x, cos, label = 'cos')\n",
    "plt.show()"
   ]
  },
  {
   "cell_type": "code",
   "execution_count": 7,
   "id": "7a56c624-9751-4da5-a8f9-f3a22b09c08a",
   "metadata": {},
   "outputs": [
    {
     "name": "stdout",
     "output_type": "stream",
     "text": [
      "327.8550708921141\n"
     ]
    }
   ],
   "source": [
    "'''6) 넘파이의 random 모듈의 normal 함수를 사용하여 10명의 직장인의 \n",
    "    월급을 랜덤으로 생성하고자 한다. \n",
    "    평균이 270이고, 표준편차가 50이 대략 되도록 10명의 월급을 생성하시오.  \n",
    "\n",
    "    - 생성된 월급 데이터의 상위 20% 월급을 구하시오. \n",
    "    - 생성된 월급 데이터의 하위 25% 월급을 구하시오. \n",
    "    - 생성된 월급 데이터의 중위값(중위소득)을 구하시오. \n",
    "    - 중위소득의 120% 를 기준으로 지원금을 제공할 경우 기준금액이 얼마인지 계산하시오. '''\n",
    "\n",
    "data = np.random.normal(270,50,10)\n",
    "\n",
    "up20 = np.percentile(data, 80)\n",
    "do25 = np.percentile(data, 25)\n",
    "medi = np.median(data)\n",
    "\n",
    "print(medi*1.2)"
   ]
  },
  {
   "cell_type": "code",
   "execution_count": 8,
   "id": "1a98ee46-59b1-47a2-a2e8-98d5792ac077",
   "metadata": {},
   "outputs": [
    {
     "data": {
      "text/plain": [
       "'7) 제출하기 \\n   * 위의 작업을 수행한 후 <워크시트 4주차에> pdf 파일로 제출하세요. \\n   * ipynb 파일을 pdf 로 출력한 후 제출하세요. \\n   * 파일형식 : 워크시트_4주차_이름(학과).pdf \\n\\n   * colab에서 [파일] - [인쇄] - [pdf 형식 선택] 으로  pdf 저장할 수 있습니다. \\n     pdf 저장하면 화면보기와 달리 형식이 약간 깨질 수 있지만 그대로 제출하면 됩니다. \\n    \\n\\n\\n다른 사람과 상의하거나 질문하여 도움을 받는 것도 가능합니다. \\n완성되지 못한 경우나 틀린 경우에도 감점하지 않습니다. '"
      ]
     },
     "execution_count": 8,
     "metadata": {},
     "output_type": "execute_result"
    }
   ],
   "source": [
    "'''7) 제출하기 \n",
    "   * 위의 작업을 수행한 후 <워크시트 4주차에> pdf 파일로 제출하세요. \n",
    "   * ipynb 파일을 pdf 로 출력한 후 제출하세요. \n",
    "   * 파일형식 : 워크시트_4주차_이름(학과).pdf \n",
    "\n",
    "   * colab에서 [파일] - [인쇄] - [pdf 형식 선택] 으로  pdf 저장할 수 있습니다. \n",
    "     pdf 저장하면 화면보기와 달리 형식이 약간 깨질 수 있지만 그대로 제출하면 됩니다. \n",
    "    \n",
    "\n",
    "\n",
    "다른 사람과 상의하거나 질문하여 도움을 받는 것도 가능합니다. \n",
    "완성되지 못한 경우나 틀린 경우에도 감점하지 않습니다. '''"
   ]
  },
  {
   "cell_type": "code",
   "execution_count": null,
   "id": "39616180-46bc-423d-94c6-c96d0b9f42bf",
   "metadata": {},
   "outputs": [],
   "source": []
  }
 ],
 "metadata": {
  "kernelspec": {
   "display_name": "Python 3.8.8 64-bit ('base': conda)",
   "language": "python",
   "name": "python388jvsc74a57bd0bbf89a25d9d3ae31b0541ec578ebad872a887f22e29954a460c465898785c4f2"
  },
  "language_info": {
   "codemirror_mode": {
    "name": "ipython",
    "version": 3
   },
   "file_extension": ".py",
   "mimetype": "text/x-python",
   "name": "python",
   "nbconvert_exporter": "python",
   "pygments_lexer": "ipython3",
   "version": "3.8.8"
  }
 },
 "nbformat": 4,
 "nbformat_minor": 5
}
