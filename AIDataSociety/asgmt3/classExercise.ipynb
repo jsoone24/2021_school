{
 "cells": [
  {
   "cell_type": "code",
   "execution_count": 1,
   "id": "9b43a4d1-4606-444e-afad-e472c62c8bfb",
   "metadata": {},
   "outputs": [
    {
     "data": {
      "text/html": [
       "<div>\n",
       "<style scoped>\n",
       "    .dataframe tbody tr th:only-of-type {\n",
       "        vertical-align: middle;\n",
       "    }\n",
       "\n",
       "    .dataframe tbody tr th {\n",
       "        vertical-align: top;\n",
       "    }\n",
       "\n",
       "    .dataframe thead th {\n",
       "        text-align: right;\n",
       "    }\n",
       "</style>\n",
       "<table border=\"1\" class=\"dataframe\">\n",
       "  <thead>\n",
       "    <tr style=\"text-align: right;\">\n",
       "      <th></th>\n",
       "      <th>연도</th>\n",
       "      <th>출생아수</th>\n",
       "      <th>천명당 출생률</th>\n",
       "    </tr>\n",
       "  </thead>\n",
       "  <tbody>\n",
       "    <tr>\n",
       "      <th>0</th>\n",
       "      <td>1951</td>\n",
       "      <td>728175</td>\n",
       "      <td>37.7</td>\n",
       "    </tr>\n",
       "    <tr>\n",
       "      <th>1</th>\n",
       "      <td>1952</td>\n",
       "      <td>775630</td>\n",
       "      <td>39.6</td>\n",
       "    </tr>\n",
       "    <tr>\n",
       "      <th>2</th>\n",
       "      <td>1953</td>\n",
       "      <td>830330</td>\n",
       "      <td>41.6</td>\n",
       "    </tr>\n",
       "    <tr>\n",
       "      <th>3</th>\n",
       "      <td>1954</td>\n",
       "      <td>892236</td>\n",
       "      <td>43.4</td>\n",
       "    </tr>\n",
       "    <tr>\n",
       "      <th>4</th>\n",
       "      <td>1955</td>\n",
       "      <td>961055</td>\n",
       "      <td>45.4</td>\n",
       "    </tr>\n",
       "    <tr>\n",
       "      <th>...</th>\n",
       "      <td>...</td>\n",
       "      <td>...</td>\n",
       "      <td>...</td>\n",
       "    </tr>\n",
       "    <tr>\n",
       "      <th>60</th>\n",
       "      <td>2011</td>\n",
       "      <td>471265</td>\n",
       "      <td>9.4</td>\n",
       "    </tr>\n",
       "    <tr>\n",
       "      <th>61</th>\n",
       "      <td>2012</td>\n",
       "      <td>484550</td>\n",
       "      <td>9.6</td>\n",
       "    </tr>\n",
       "    <tr>\n",
       "      <th>62</th>\n",
       "      <td>2013</td>\n",
       "      <td>436455</td>\n",
       "      <td>8.6</td>\n",
       "    </tr>\n",
       "    <tr>\n",
       "      <th>63</th>\n",
       "      <td>2014</td>\n",
       "      <td>435435</td>\n",
       "      <td>8.6</td>\n",
       "    </tr>\n",
       "    <tr>\n",
       "      <th>64</th>\n",
       "      <td>2015</td>\n",
       "      <td>438420</td>\n",
       "      <td>8.6</td>\n",
       "    </tr>\n",
       "  </tbody>\n",
       "</table>\n",
       "<p>65 rows × 3 columns</p>\n",
       "</div>"
      ],
      "text/plain": [
       "      연도    출생아수  천명당 출생률\n",
       "0   1951  728175     37.7\n",
       "1   1952  775630     39.6\n",
       "2   1953  830330     41.6\n",
       "3   1954  892236     43.4\n",
       "4   1955  961055     45.4\n",
       "..   ...     ...      ...\n",
       "60  2011  471265      9.4\n",
       "61  2012  484550      9.6\n",
       "62  2013  436455      8.6\n",
       "63  2014  435435      8.6\n",
       "64  2015  438420      8.6\n",
       "\n",
       "[65 rows x 3 columns]"
      ]
     },
     "execution_count": 1,
     "metadata": {},
     "output_type": "execute_result"
    }
   ],
   "source": [
    "import pandas as pd\n",
    "df = pd.read_excel(\"data.xlsx\")\n",
    "df"
   ]
  },
  {
   "cell_type": "code",
   "execution_count": 2,
   "id": "410f3e1a-afaf-4d3b-ae7e-2c0b5bb26dd3",
   "metadata": {},
   "outputs": [
    {
     "data": {
      "text/html": [
       "<div>\n",
       "<style scoped>\n",
       "    .dataframe tbody tr th:only-of-type {\n",
       "        vertical-align: middle;\n",
       "    }\n",
       "\n",
       "    .dataframe tbody tr th {\n",
       "        vertical-align: top;\n",
       "    }\n",
       "\n",
       "    .dataframe thead th {\n",
       "        text-align: right;\n",
       "    }\n",
       "</style>\n",
       "<table border=\"1\" class=\"dataframe\">\n",
       "  <thead>\n",
       "    <tr style=\"text-align: right;\">\n",
       "      <th></th>\n",
       "      <th>연도</th>\n",
       "      <th>출생아수</th>\n",
       "      <th>천명당 출생률</th>\n",
       "    </tr>\n",
       "  </thead>\n",
       "  <tbody>\n",
       "    <tr>\n",
       "      <th>10</th>\n",
       "      <td>1961</td>\n",
       "      <td>1099164</td>\n",
       "      <td>42.7</td>\n",
       "    </tr>\n",
       "    <tr>\n",
       "      <th>11</th>\n",
       "      <td>1962</td>\n",
       "      <td>1089951</td>\n",
       "      <td>41.1</td>\n",
       "    </tr>\n",
       "    <tr>\n",
       "      <th>12</th>\n",
       "      <td>1963</td>\n",
       "      <td>1075203</td>\n",
       "      <td>39.4</td>\n",
       "    </tr>\n",
       "    <tr>\n",
       "      <th>13</th>\n",
       "      <td>1964</td>\n",
       "      <td>1057241</td>\n",
       "      <td>37.8</td>\n",
       "    </tr>\n",
       "    <tr>\n",
       "      <th>14</th>\n",
       "      <td>1965</td>\n",
       "      <td>1040544</td>\n",
       "      <td>36.3</td>\n",
       "    </tr>\n",
       "    <tr>\n",
       "      <th>15</th>\n",
       "      <td>1966</td>\n",
       "      <td>1028479</td>\n",
       "      <td>34.9</td>\n",
       "    </tr>\n",
       "    <tr>\n",
       "      <th>16</th>\n",
       "      <td>1967</td>\n",
       "      <td>1020235</td>\n",
       "      <td>33.9</td>\n",
       "    </tr>\n",
       "    <tr>\n",
       "      <th>17</th>\n",
       "      <td>1968</td>\n",
       "      <td>1016739</td>\n",
       "      <td>33.0</td>\n",
       "    </tr>\n",
       "    <tr>\n",
       "      <th>18</th>\n",
       "      <td>1969</td>\n",
       "      <td>1017618</td>\n",
       "      <td>32.3</td>\n",
       "    </tr>\n",
       "    <tr>\n",
       "      <th>19</th>\n",
       "      <td>1970</td>\n",
       "      <td>1006645</td>\n",
       "      <td>31.2</td>\n",
       "    </tr>\n",
       "  </tbody>\n",
       "</table>\n",
       "</div>"
      ],
      "text/plain": [
       "      연도     출생아수  천명당 출생률\n",
       "10  1961  1099164     42.7\n",
       "11  1962  1089951     41.1\n",
       "12  1963  1075203     39.4\n",
       "13  1964  1057241     37.8\n",
       "14  1965  1040544     36.3\n",
       "15  1966  1028479     34.9\n",
       "16  1967  1020235     33.9\n",
       "17  1968  1016739     33.0\n",
       "18  1969  1017618     32.3\n",
       "19  1970  1006645     31.2"
      ]
     },
     "execution_count": 2,
     "metadata": {},
     "output_type": "execute_result"
    }
   ],
   "source": [
    "df[10:20]"
   ]
  },
  {
   "cell_type": "code",
   "execution_count": 3,
   "id": "69faaa95-886c-45b2-8ac9-03772247181b",
   "metadata": {},
   "outputs": [
    {
     "data": {
      "text/plain": [
       "5     1956\n",
       "6     1957\n",
       "7     1958\n",
       "8     1959\n",
       "9     1960\n",
       "10    1961\n",
       "11    1962\n",
       "Name: 연도, dtype: int64"
      ]
     },
     "execution_count": 3,
     "metadata": {},
     "output_type": "execute_result"
    }
   ],
   "source": [
    "#df.연도\n",
    "a = df['연도'][5:12]\n",
    "a"
   ]
  },
  {
   "cell_type": "code",
   "execution_count": 4,
   "id": "2ebb4538-11e7-43a7-8d80-0d948bbcb673",
   "metadata": {},
   "outputs": [
    {
     "data": {
      "image/png": "[encoded data removed]",
      "text/plain": [
       "<Figure size 432x288 with 1 Axes>"
      ]
     },
     "metadata": {
      "needs_background": "light"
     },
     "output_type": "display_data"
    }
   ],
   "source": [
    "import matplotlib.pyplot as plt\n",
    "plt.plot(df['출생아수'][0:9])\n",
    "plt.show()"
   ]
  },
  {
   "cell_type": "code",
   "execution_count": 5,
   "id": "ce992abb-a639-4e4c-a68b-8c598eafdcdb",
   "metadata": {},
   "outputs": [
    {
     "data": {
      "text/html": [
       "<div>\n",
       "<style scoped>\n",
       "    .dataframe tbody tr th:only-of-type {\n",
       "        vertical-align: middle;\n",
       "    }\n",
       "\n",
       "    .dataframe tbody tr th {\n",
       "        vertical-align: top;\n",
       "    }\n",
       "\n",
       "    .dataframe thead th {\n",
       "        text-align: right;\n",
       "    }\n",
       "</style>\n",
       "<table border=\"1\" class=\"dataframe\">\n",
       "  <thead>\n",
       "    <tr style=\"text-align: right;\">\n",
       "      <th></th>\n",
       "      <th>연도</th>\n",
       "      <th>출생아수</th>\n",
       "    </tr>\n",
       "  </thead>\n",
       "  <tbody>\n",
       "    <tr>\n",
       "      <th>0</th>\n",
       "      <td>1951</td>\n",
       "      <td>728175</td>\n",
       "    </tr>\n",
       "    <tr>\n",
       "      <th>1</th>\n",
       "      <td>1952</td>\n",
       "      <td>775630</td>\n",
       "    </tr>\n",
       "    <tr>\n",
       "      <th>2</th>\n",
       "      <td>1953</td>\n",
       "      <td>830330</td>\n",
       "    </tr>\n",
       "    <tr>\n",
       "      <th>3</th>\n",
       "      <td>1954</td>\n",
       "      <td>892236</td>\n",
       "    </tr>\n",
       "    <tr>\n",
       "      <th>4</th>\n",
       "      <td>1955</td>\n",
       "      <td>961055</td>\n",
       "    </tr>\n",
       "    <tr>\n",
       "      <th>...</th>\n",
       "      <td>...</td>\n",
       "      <td>...</td>\n",
       "    </tr>\n",
       "    <tr>\n",
       "      <th>60</th>\n",
       "      <td>2011</td>\n",
       "      <td>471265</td>\n",
       "    </tr>\n",
       "    <tr>\n",
       "      <th>61</th>\n",
       "      <td>2012</td>\n",
       "      <td>484550</td>\n",
       "    </tr>\n",
       "    <tr>\n",
       "      <th>62</th>\n",
       "      <td>2013</td>\n",
       "      <td>436455</td>\n",
       "    </tr>\n",
       "    <tr>\n",
       "      <th>63</th>\n",
       "      <td>2014</td>\n",
       "      <td>435435</td>\n",
       "    </tr>\n",
       "    <tr>\n",
       "      <th>64</th>\n",
       "      <td>2015</td>\n",
       "      <td>438420</td>\n",
       "    </tr>\n",
       "  </tbody>\n",
       "</table>\n",
       "<p>65 rows × 2 columns</p>\n",
       "</div>"
      ],
      "text/plain": [
       "      연도    출생아수\n",
       "0   1951  728175\n",
       "1   1952  775630\n",
       "2   1953  830330\n",
       "3   1954  892236\n",
       "4   1955  961055\n",
       "..   ...     ...\n",
       "60  2011  471265\n",
       "61  2012  484550\n",
       "62  2013  436455\n",
       "63  2014  435435\n",
       "64  2015  438420\n",
       "\n",
       "[65 rows x 2 columns]"
      ]
     },
     "execution_count": 5,
     "metadata": {},
     "output_type": "execute_result"
    }
   ],
   "source": [
    "df[['연도', '출생아수']]"
   ]
  },
  {
   "cell_type": "code",
   "execution_count": 7,
   "id": "1100a3cf-6235-4e54-8104-5fd094af2199",
   "metadata": {},
   "outputs": [
    {
     "data": {
      "text/html": [
       "<div>\n",
       "<style scoped>\n",
       "    .dataframe tbody tr th:only-of-type {\n",
       "        vertical-align: middle;\n",
       "    }\n",
       "\n",
       "    .dataframe tbody tr th {\n",
       "        vertical-align: top;\n",
       "    }\n",
       "\n",
       "    .dataframe thead th {\n",
       "        text-align: right;\n",
       "    }\n",
       "</style>\n",
       "<table border=\"1\" class=\"dataframe\">\n",
       "  <thead>\n",
       "    <tr style=\"text-align: right;\">\n",
       "      <th></th>\n",
       "      <th>연도</th>\n",
       "      <th>출생아수</th>\n",
       "      <th>천명당 출생률</th>\n",
       "    </tr>\n",
       "  </thead>\n",
       "  <tbody>\n",
       "    <tr>\n",
       "      <th>49</th>\n",
       "      <td>2000</td>\n",
       "      <td>634501</td>\n",
       "      <td>13.3</td>\n",
       "    </tr>\n",
       "    <tr>\n",
       "      <th>50</th>\n",
       "      <td>2001</td>\n",
       "      <td>554895</td>\n",
       "      <td>11.6</td>\n",
       "    </tr>\n",
       "    <tr>\n",
       "      <th>51</th>\n",
       "      <td>2002</td>\n",
       "      <td>492111</td>\n",
       "      <td>10.2</td>\n",
       "    </tr>\n",
       "    <tr>\n",
       "      <th>52</th>\n",
       "      <td>2003</td>\n",
       "      <td>490543</td>\n",
       "      <td>10.2</td>\n",
       "    </tr>\n",
       "    <tr>\n",
       "      <th>53</th>\n",
       "      <td>2004</td>\n",
       "      <td>472761</td>\n",
       "      <td>9.8</td>\n",
       "    </tr>\n",
       "    <tr>\n",
       "      <th>54</th>\n",
       "      <td>2005</td>\n",
       "      <td>435031</td>\n",
       "      <td>8.9</td>\n",
       "    </tr>\n",
       "    <tr>\n",
       "      <th>55</th>\n",
       "      <td>2006</td>\n",
       "      <td>448153</td>\n",
       "      <td>9.2</td>\n",
       "    </tr>\n",
       "    <tr>\n",
       "      <th>56</th>\n",
       "      <td>2007</td>\n",
       "      <td>493189</td>\n",
       "      <td>10.0</td>\n",
       "    </tr>\n",
       "    <tr>\n",
       "      <th>57</th>\n",
       "      <td>2008</td>\n",
       "      <td>465892</td>\n",
       "      <td>9.4</td>\n",
       "    </tr>\n",
       "    <tr>\n",
       "      <th>58</th>\n",
       "      <td>2009</td>\n",
       "      <td>444849</td>\n",
       "      <td>9.0</td>\n",
       "    </tr>\n",
       "    <tr>\n",
       "      <th>59</th>\n",
       "      <td>2010</td>\n",
       "      <td>470171</td>\n",
       "      <td>9.4</td>\n",
       "    </tr>\n",
       "    <tr>\n",
       "      <th>60</th>\n",
       "      <td>2011</td>\n",
       "      <td>471265</td>\n",
       "      <td>9.4</td>\n",
       "    </tr>\n",
       "    <tr>\n",
       "      <th>61</th>\n",
       "      <td>2012</td>\n",
       "      <td>484550</td>\n",
       "      <td>9.6</td>\n",
       "    </tr>\n",
       "    <tr>\n",
       "      <th>62</th>\n",
       "      <td>2013</td>\n",
       "      <td>436455</td>\n",
       "      <td>8.6</td>\n",
       "    </tr>\n",
       "    <tr>\n",
       "      <th>63</th>\n",
       "      <td>2014</td>\n",
       "      <td>435435</td>\n",
       "      <td>8.6</td>\n",
       "    </tr>\n",
       "    <tr>\n",
       "      <th>64</th>\n",
       "      <td>2015</td>\n",
       "      <td>438420</td>\n",
       "      <td>8.6</td>\n",
       "    </tr>\n",
       "  </tbody>\n",
       "</table>\n",
       "</div>"
      ],
      "text/plain": [
       "      연도    출생아수  천명당 출생률\n",
       "49  2000  634501     13.3\n",
       "50  2001  554895     11.6\n",
       "51  2002  492111     10.2\n",
       "52  2003  490543     10.2\n",
       "53  2004  472761      9.8\n",
       "54  2005  435031      8.9\n",
       "55  2006  448153      9.2\n",
       "56  2007  493189     10.0\n",
       "57  2008  465892      9.4\n",
       "58  2009  444849      9.0\n",
       "59  2010  470171      9.4\n",
       "60  2011  471265      9.4\n",
       "61  2012  484550      9.6\n",
       "62  2013  436455      8.6\n",
       "63  2014  435435      8.6\n",
       "64  2015  438420      8.6"
      ]
     },
     "execution_count": 7,
     "metadata": {},
     "output_type": "execute_result"
    }
   ],
   "source": [
    "r = df.query('연도>=2000 and 출생아수>=200000')\n",
    "r"
   ]
  },
  {
   "cell_type": "code",
   "execution_count": 17,
   "id": "d0528dfa-3cde-45f8-a7be-537f64b65799",
   "metadata": {},
   "outputs": [],
   "source": [
    "#1980년~2000년까지의 데이터 중에서 출생인구가 80만 이하인 데이터를 조회하라\n",
    "r = df.query(\"2000>=연도>=1980 and 출생아수<=800000\")\n",
    "r"
   ]
  },
  {
   "cell_type": "code",
   "execution_count": 10,
   "id": "ec5289bc-8cf1-4361-83c9-55003dbaa552",
   "metadata": {},
   "outputs": [
    {
     "data": {
      "text/plain": [
       "<AxesSubplot:ylabel='Frequency'>"
      ]
     },
     "execution_count": 10,
     "metadata": {},
     "output_type": "execute_result"
    },
    {
     "data": {
      "image/png": "[encoded data removed]",
      "text/plain": [
       "<Figure size 432x288 with 1 Axes>"
      ]
     },
     "metadata": {
      "needs_background": "light"
     },
     "output_type": "display_data"
    }
   ],
   "source": [
    "#천명당 출생률이 30만 이상인 것만 조회하라\n",
    "df.rename(columns={'천명당 출생률':'출생률'}, inplace=True)\n",
    "df.query('출생률>=30')\n",
    "df['출생률'].plot(kind='hist')"
   ]
  },
  {
   "cell_type": "code",
   "execution_count": 11,
   "id": "ef17079c-a223-4318-a35a-c4fc709bb822",
   "metadata": {},
   "outputs": [
    {
     "name": "stdout",
     "output_type": "stream",
     "text": [
      "[ 1  4  7 10 13 16 19]\n",
      "[11 14 17 20 23 26 29]\n",
      "[22 28 34 40 46 52 58]\n"
     ]
    }
   ],
   "source": [
    "####### numpy #######\n",
    "## arange(시작, 종료 증가)\n",
    "import numpy as np\n",
    "x = np.arange(1,20,3)\n",
    "print(x)\n",
    "x = x+10\n",
    "print(x)\n",
    "print(x*2)"
   ]
  },
  {
   "cell_type": "code",
   "execution_count": 14,
   "id": "f70bf86b-745e-413f-a579-41e2eb21bf46",
   "metadata": {},
   "outputs": [
    {
     "data": {
      "text/plain": [
       "array([ 5.5,  5.5, 10.5])"
      ]
     },
     "execution_count": 14,
     "metadata": {},
     "output_type": "execute_result"
    }
   ],
   "source": [
    "## 문제 1 ##\n",
    "# 정육면체의 가로, 세로, 높이가 들어있는 리스트가 있습니다. 정육면체1=[5,5,10] 현재 리스트의 값에 각각 0.5를 더한 정육면체 2를 만드시오( 넘파이 사용)\n",
    "정육면체1=[5,5,10]\n",
    "정육면체2=np.array(정육면체1)\n",
    "정육면체2=정육면체2+0.5\n",
    "정육면체2"
   ]
  },
  {
   "cell_type": "code",
   "execution_count": 16,
   "id": "05438d2e-de3c-4cce-9911-1db4b069a613",
   "metadata": {},
   "outputs": [
    {
     "data": {
      "text/plain": [
       "[1, 3, 5, 7, 9]"
      ]
     },
     "execution_count": 16,
     "metadata": {},
     "output_type": "execute_result"
    }
   ],
   "source": [
    "## 문제 2 ##\n",
    "# 1부터 10 미만까지 홀수가 들어있는 array를 생성하시오. 1부터 5까지 0.8씩 증가하는 array를 생성하시오. 두 array의 같은인덱스끼리의 합을 구하시오\n",
    "odd = np.arange(1,10,2)\n",
    "fl = np.arange(1,5,0.8)\n",
    "ans = odd + fl\n",
    "ans"
   ]
  },
  {
   "cell_type": "code",
   "execution_count": 17,
   "id": "f7f83bca-9849-4276-a6dc-d69a99f2d6bb",
   "metadata": {},
   "outputs": [
    {
     "data": {
      "text/plain": [
       "array([152.69056079, 160.58688797, 157.16091533, 161.38009718,\n",
       "       167.85702226, 175.08491659, 180.13258907, 166.75919506,\n",
       "       173.74139097, 159.63619944, 167.94848656, 168.70129645,\n",
       "       162.45933005, 163.48004961, 151.67733976, 174.1166406 ,\n",
       "       192.36849168, 168.66272002, 157.41834445, 164.37259633,\n",
       "       160.67611163, 148.0379048 , 180.07822513, 174.86875935,\n",
       "       177.81964404, 170.54897848, 165.81353269, 165.95341567,\n",
       "       173.56557172, 170.309836  , 186.66417264, 177.34766302,\n",
       "       180.78249906, 177.90299198, 170.36014476, 171.13541443,\n",
       "       178.7758796 , 163.19326812, 166.65998108, 178.51755156,\n",
       "       178.86998105, 168.55304716, 178.22113283, 177.49030314,\n",
       "       166.79595728, 175.79785402, 173.76621777, 175.00953237,\n",
       "       176.08448004, 147.41180895])"
      ]
     },
     "execution_count": 17,
     "metadata": {},
     "output_type": "execute_result"
    }
   ],
   "source": [
    "data=np.random.normal(170, 10, 50)\n",
    "data"
   ]
  },
  {
   "cell_type": "code",
   "execution_count": 21,
   "id": "1c1b01e4-f17f-4607-8ad8-09ffc1774012",
   "metadata": {},
   "outputs": [
    {
     "data": {
      "text/plain": [
       "array([ 2. ,  4.8,  7.6, 10.4, 13.2])"
      ]
     },
     "execution_count": 21,
     "metadata": {},
     "output_type": "execute_result"
    }
   ],
   "source": [
    "array1 = np.arange(1,10,2)\n",
    "array2 = np.arange(1,5,0.8)\n",
    "array1 + array2"
   ]
  },
  {
   "cell_type": "code",
   "execution_count": 22,
   "id": "2d3bbb4c-7d29-418a-a6cd-0f2809ca0f41",
   "metadata": {},
   "outputs": [
    {
     "data": {
      "image/png": "[encoded data removed]",
      "text/plain": [
       "<Figure size 432x288 with 1 Axes>"
      ]
     },
     "metadata": {
      "needs_background": "light"
     },
     "output_type": "display_data"
    }
   ],
   "source": [
    "# 1-6 수를 난수로 발생, 100개. 차트로표시\n",
    "\n",
    "a = np.random.randint(1,7,100)\n",
    "plt.hist(a,bins=6,width=0.7)\n",
    "plt.show()"
   ]
  },
  {
   "cell_type": "code",
   "execution_count": 29,
   "id": "67ccbf86-4227-4359-a98c-cd5d607a2b6d",
   "metadata": {},
   "outputs": [
    {
     "data": {
      "image/png": "[encoded data removed]",
      "text/plain": [
       "<Figure size 432x288 with 1 Axes>"
      ]
     },
     "metadata": {
      "needs_background": "light"
     },
     "output_type": "display_data"
    }
   ],
   "source": [
    "x1 = np.arange(0,4,0.2)\n",
    "ySin = np.sin(x1)\n",
    "plt.plot(x1, ySin, label = 'sin')\n",
    "plt.show()"
   ]
  },
  {
   "cell_type": "code",
   "execution_count": 28,
   "id": "4cfef3db-77e8-4799-b617-9672b376a5c9",
   "metadata": {},
   "outputs": [
    {
     "data": {
      "text/plain": [
       "array([ 1.,  2.,  3.,  4.,  5.,  6.,  7.,  8.,  9., 10.])"
      ]
     },
     "execution_count": 28,
     "metadata": {},
     "output_type": "execute_result"
    }
   ],
   "source": [
    "x = np.linspace(1,10,10)\n",
    "x"
   ]
  },
  {
   "cell_type": "code",
   "execution_count": 31,
   "id": "9c3bc7b5-0673-4dd2-b3dc-ed79246bb899",
   "metadata": {},
   "outputs": [
    {
     "data": {
      "text/plain": [
       "array([166.38911945, 169.74909161, 156.49551881, 161.89337109,\n",
       "       169.34647163, 152.93083053, 168.54054793, 166.14132222,\n",
       "       180.0134316 , 148.88951272, 172.77109034, 169.12814505,\n",
       "       161.68927014, 163.60003496, 167.48447305, 161.95032485,\n",
       "       174.20630264, 165.69098238, 166.99639981, 160.67843316,\n",
       "       171.65731121, 169.96428764, 145.01830176, 191.53902902,\n",
       "       159.52499199, 166.07562531, 184.96996643, 165.33853579,\n",
       "       159.21371388, 160.40649826])"
      ]
     },
     "execution_count": 31,
     "metadata": {},
     "output_type": "execute_result"
    }
   ],
   "source": [
    "data = np.random.normal(170,10,30)\n",
    "data"
   ]
  },
  {
   "cell_type": "code",
   "execution_count": null,
   "id": "6a723581-634a-4623-a28f-be95954035d3",
   "metadata": {},
   "outputs": [],
   "source": [
    "# 평균\n",
    "np.mean()\n",
    "# 중위값\n",
    "np.median()\n",
    "\n",
    "#퍼센트로 자르기. 하위 20퍼센트\n",
    "np.percentile(pay, 20)"
   ]
  }
 ],
 "metadata": {
  "kernelspec": {
   "display_name": "Python 3.8.8 64-bit ('base': conda)",
   "language": "python",
   "name": "python388jvsc74a57bd0bbf89a25d9d3ae31b0541ec578ebad872a887f22e29954a460c465898785c4f2"
  },
  "language_info": {
   "codemirror_mode": {
    "name": "ipython",
    "version": 3
   },
   "file_extension": ".py",
   "mimetype": "text/x-python",
   "name": "python",
   "nbconvert_exporter": "python",
   "pygments_lexer": "ipython3",
   "version": "3.8.8"
  }
 },
 "nbformat": 4,
 "nbformat_minor": 5
}
