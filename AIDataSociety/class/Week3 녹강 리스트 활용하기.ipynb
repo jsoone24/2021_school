{
 "cells": [
  {
   "cell_type": "code",
   "execution_count": 1,
   "metadata": {
    "colab": {
     "base_uri": "https://localhost:8080/"
    },
    "executionInfo": {
     "elapsed": 3,
     "status": "ok",
     "timestamp": 1633368807310,
     "user": {
      "displayName": "한종수",
      "photoUrl": "https://lh3.googleusercontent.com/a/default-user=s64",
      "userId": "13299887697643773940"
     },
     "user_tz": -540
    },
    "id": "Jt1l2VofWlBw",
    "outputId": "deec6d0d-ce89-468d-cbc7-368146ce1840"
   },
   "outputs": [
    {
     "data": {
      "text/plain": [
       "[0,\n",
       " 10,\n",
       " 20,\n",
       " 30,\n",
       " 40,\n",
       " 50,\n",
       " 60,\n",
       " 70,\n",
       " 80,\n",
       " 90,\n",
       " 100,\n",
       " 110,\n",
       " 120,\n",
       " 130,\n",
       " 140,\n",
       " 150,\n",
       " 160,\n",
       " 170,\n",
       " 180,\n",
       " 190,\n",
       " 200,\n",
       " 210,\n",
       " 220,\n",
       " 230,\n",
       " 240,\n",
       " 250,\n",
       " 260,\n",
       " 270,\n",
       " 280,\n",
       " 290,\n",
       " 300,\n",
       " 310,\n",
       " 320,\n",
       " 330,\n",
       " 340,\n",
       " 350,\n",
       " 360]"
      ]
     },
     "execution_count": 1,
     "metadata": {},
     "output_type": "execute_result"
    }
   ],
   "source": [
    "# Sine 함수\n",
    "import math\n",
    "xlist = list(range(0,361, 10))\n",
    "ylist = [math.sin(x) for x in xlist]\n",
    "xlist\n",
    "\n",
    "import math as m\n",
    "import turtle as t\n",
    "\n",
    "xlist = list(range(0, 721, 10))\n",
    "ylist = [m.sin(m.radians(x)) for x in xlist]\n",
    "\n",
    "for i in  range(len(xlist)):\n",
    "  x = xlist[i]\n",
    "  y = ylist[i]\n",
    "  t.goto(x/1.6, y*150)\n",
    "  print(\"%3d도 --> %6.2f\" %(x,y))"
   ]
  },
  {
   "cell_type": "code",
   "execution_count": null,
   "metadata": {
    "id": "p2dNx8WGX19a"
   },
   "outputs": [],
   "source": []
  }
 ],
 "metadata": {
  "colab": {
   "authorship_tag": "ABX9TyNPYGc5U4nSyG5CBYvbb1R2",
   "name": "Week3 리스트 활용하기.ipynb",
   "provenance": []
  },
  "kernelspec": {
   "display_name": "Python 3",
   "language": "python",
   "name": "python3"
  },
  "language_info": {
   "codemirror_mode": {
    "name": "ipython",
    "version": 3
   },
   "file_extension": ".py",
   "mimetype": "text/x-python",
   "name": "python",
   "nbconvert_exporter": "python",
   "pygments_lexer": "ipython3",
   "version": "3.8.8"
  }
 },
 "nbformat": 4,
 "nbformat_minor": 4
}
