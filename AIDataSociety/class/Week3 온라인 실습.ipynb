{
 "cells": [
  {
   "cell_type": "code",
   "execution_count": null,
   "metadata": {},
   "outputs": [],
   "source": [
    "import matplotlib.pyplot as plt\n",
    "\n",
    "temp1994=[39.6,37.9,37.9,34.9,33.9,35.3,35.9,35.3,32.5,36.8]\n",
    "temp2018=[29.3,33.9,32.5,32.4,35.6,35.9,33.6,33.8,37.0,29.3]\n",
    "\n",
    "# 1. 차트를 그리고, 범례 표시\n",
    "# 2. 마커 적용하기\n",
    "# 3. x,y 축 변경\n",
    "# 4. 한글 제목. 전체 제목, x축 제목, y축 제목"
   ]
  }
 ],
 "metadata": {
  "language_info": {
   "name": "python"
  },
  "orig_nbformat": 4
 },
 "nbformat": 4,
 "nbformat_minor": 2
}
